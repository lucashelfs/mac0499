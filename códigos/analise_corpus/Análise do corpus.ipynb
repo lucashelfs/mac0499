{
 "cells": [
  {
   "cell_type": "code",
   "execution_count": 1,
   "metadata": {
    "collapsed": true
   },
   "outputs": [],
   "source": [
    "import json\n",
    "import os\n",
    "import pandas as pd"
   ]
  },
  {
   "cell_type": "code",
   "execution_count": 2,
   "metadata": {},
   "outputs": [
    {
     "data": {
      "text/plain": [
       "['../../dados/presidenciaveis-16-08-2018.json',\n",
       " '../../dados/presidenciaveis-06-09-2018.json',\n",
       " '../../dados/presidenciaveis-15-08-2018.json',\n",
       " '../../dados/presidenciaveis-02-10-2018.json',\n",
       " '../../dados/presidenciaveis-17-10-2018.json',\n",
       " '../../dados/presidenciaveis-24-10-2018.json',\n",
       " '../../dados/presidenciaveis-25-07-2018.json',\n",
       " '../../dados/presidenciaveis-14-08-2018.json',\n",
       " '../../dados/presidenciaveis-24-09-2018.json',\n",
       " '../../dados/presidenciaveis-03-10-2018.json',\n",
       " '../../dados/presidenciaveis-08-10-2018.json']"
      ]
     },
     "execution_count": 2,
     "metadata": {},
     "output_type": "execute_result"
    }
   ],
   "source": [
    "data_dir = '../../dados/'\n",
    "filenames = os.listdir(data_dir)\n",
    "\n",
    "file_paths = []\n",
    "for filename in filenames:\n",
    "    file_paths.append(data_dir+filename)\n",
    "\n",
    "file_paths"
   ]
  },
  {
   "cell_type": "code",
   "execution_count": 3,
   "metadata": {
    "collapsed": true
   },
   "outputs": [],
   "source": [
    "all_lines = []    \n",
    "for file in file_paths:\n",
    "    with open(file) as f:\n",
    "        lines = f.readlines()\n",
    "        all_lines.extend(lines)\n"
   ]
  },
  {
   "cell_type": "code",
   "execution_count": 4,
   "metadata": {
    "collapsed": true
   },
   "outputs": [],
   "source": [
    "tweets = []\n",
    "for line in all_lines:\n",
    "    tweet = json.loads(line)\n",
    "    tweets.append(tweet)"
   ]
  },
  {
   "cell_type": "code",
   "execution_count": 5,
   "metadata": {
    "collapsed": true
   },
   "outputs": [],
   "source": [
    "all_keys = []\n",
    "for tweet in tweets:\n",
    "    all_keys.extend(tweet.keys())"
   ]
  },
  {
   "cell_type": "code",
   "execution_count": 6,
   "metadata": {
    "collapsed": true
   },
   "outputs": [],
   "source": [
    "relevant_keys = []\n",
    "uniques = set(all_keys)\n",
    "for u in uniques:\n",
    "    if all_keys.count(u) == len(tweets):\n",
    "        relevant_keys.append(u)"
   ]
  },
  {
   "cell_type": "code",
   "execution_count": 7,
   "metadata": {
    "collapsed": true
   },
   "outputs": [],
   "source": [
    "df = pd.DataFrame.from_dict(tweets, orient='columns')"
   ]
  },
  {
   "cell_type": "code",
   "execution_count": 8,
   "metadata": {
    "collapsed": true
   },
   "outputs": [],
   "source": [
    "relevant_df = df[relevant_keys]"
   ]
  },
  {
   "cell_type": "code",
   "execution_count": 9,
   "metadata": {
    "collapsed": true
   },
   "outputs": [],
   "source": [
    "# Agora é adicionar todos os tweets em um dataframe para inspecionar"
   ]
  },
  {
   "cell_type": "code",
   "execution_count": 55,
   "metadata": {},
   "outputs": [],
   "source": [
    "# Dar uma olhada e retirar os que forem retweets\n",
    "# Como fazer isso?\n",
    "# df[df['truncated'] == False]['tweet_mode']\n",
    "# uniques"
   ]
  },
  {
   "cell_type": "code",
   "execution_count": 45,
   "metadata": {},
   "outputs": [],
   "source": []
  },
  {
   "cell_type": "code",
   "execution_count": 53,
   "metadata": {},
   "outputs": [],
   "source": [
    "# Fazer um ranking dos tweets com maior numero de interações\n",
    "counts = ['quote_count', 'reply_count', 'retweet_count', 'favorite_count', 'possibly_sensitive', 'lang']\n"
   ]
  },
  {
   "cell_type": "code",
   "execution_count": 57,
   "metadata": {},
   "outputs": [
    {
     "data": {
      "text/html": [
       "<div>\n",
       "<style>\n",
       "    .dataframe thead tr:only-child th {\n",
       "        text-align: right;\n",
       "    }\n",
       "\n",
       "    .dataframe thead th {\n",
       "        text-align: left;\n",
       "    }\n",
       "\n",
       "    .dataframe tbody tr th {\n",
       "        vertical-align: top;\n",
       "    }\n",
       "</style>\n",
       "<table border=\"1\" class=\"dataframe\">\n",
       "  <thead>\n",
       "    <tr style=\"text-align: right;\">\n",
       "      <th></th>\n",
       "      <th>contributors</th>\n",
       "      <th>coordinates</th>\n",
       "      <th>created_at</th>\n",
       "      <th>display_text_range</th>\n",
       "      <th>entities</th>\n",
       "      <th>extended_entities</th>\n",
       "      <th>extended_tweet</th>\n",
       "      <th>favorite_count</th>\n",
       "      <th>favorited</th>\n",
       "      <th>filter_level</th>\n",
       "      <th>...</th>\n",
       "      <th>quoted_status_id_str</th>\n",
       "      <th>quoted_status_permalink</th>\n",
       "      <th>reply_count</th>\n",
       "      <th>retweet_count</th>\n",
       "      <th>retweeted</th>\n",
       "      <th>source</th>\n",
       "      <th>text</th>\n",
       "      <th>timestamp_ms</th>\n",
       "      <th>truncated</th>\n",
       "      <th>user</th>\n",
       "    </tr>\n",
       "    <tr>\n",
       "      <th>quote_count</th>\n",
       "      <th></th>\n",
       "      <th></th>\n",
       "      <th></th>\n",
       "      <th></th>\n",
       "      <th></th>\n",
       "      <th></th>\n",
       "      <th></th>\n",
       "      <th></th>\n",
       "      <th></th>\n",
       "      <th></th>\n",
       "      <th></th>\n",
       "      <th></th>\n",
       "      <th></th>\n",
       "      <th></th>\n",
       "      <th></th>\n",
       "      <th></th>\n",
       "      <th></th>\n",
       "      <th></th>\n",
       "      <th></th>\n",
       "      <th></th>\n",
       "      <th></th>\n",
       "    </tr>\n",
       "  </thead>\n",
       "  <tbody>\n",
       "    <tr>\n",
       "      <th>0</th>\n",
       "      <td>0</td>\n",
       "      <td>8</td>\n",
       "      <td>15633</td>\n",
       "      <td>5032</td>\n",
       "      <td>15633</td>\n",
       "      <td>517</td>\n",
       "      <td>5121</td>\n",
       "      <td>15633</td>\n",
       "      <td>15633</td>\n",
       "      <td>15633</td>\n",
       "      <td>...</td>\n",
       "      <td>4570</td>\n",
       "      <td>4570</td>\n",
       "      <td>15633</td>\n",
       "      <td>15633</td>\n",
       "      <td>15633</td>\n",
       "      <td>15633</td>\n",
       "      <td>15633</td>\n",
       "      <td>15633</td>\n",
       "      <td>15633</td>\n",
       "      <td>15633</td>\n",
       "    </tr>\n",
       "  </tbody>\n",
       "</table>\n",
       "<p>1 rows × 34 columns</p>\n",
       "</div>"
      ],
      "text/plain": [
       "             contributors  coordinates  created_at  display_text_range  \\\n",
       "quote_count                                                              \n",
       "0                       0            8       15633                5032   \n",
       "\n",
       "             entities  extended_entities  extended_tweet  favorite_count  \\\n",
       "quote_count                                                                \n",
       "0               15633                517            5121           15633   \n",
       "\n",
       "             favorited  filter_level  ...    quoted_status_id_str  \\\n",
       "quote_count                           ...                           \n",
       "0                15633         15633  ...                    4570   \n",
       "\n",
       "             quoted_status_permalink  reply_count  retweet_count  retweeted  \\\n",
       "quote_count                                                                   \n",
       "0                               4570        15633          15633      15633   \n",
       "\n",
       "             source   text  timestamp_ms  truncated   user  \n",
       "quote_count                                                 \n",
       "0             15633  15633         15633      15633  15633  \n",
       "\n",
       "[1 rows x 34 columns]"
      ]
     },
     "execution_count": 57,
     "metadata": {},
     "output_type": "execute_result"
    }
   ],
   "source": [
    "df.groupby('quote_count').count()"
   ]
  },
  {
   "cell_type": "code",
   "execution_count": 12,
   "metadata": {
    "collapsed": true
   },
   "outputs": [],
   "source": [
    "# Inspecionar os textos de todos os tweets\n",
    "# Olhar a condição dos textos estarem completos ou nao\n",
    "# tem os truncados, se estiverem truncados: ou tem mais do que 140 ou sao retweets"
   ]
  },
  {
   "cell_type": "code",
   "execution_count": 13,
   "metadata": {
    "collapsed": true
   },
   "outputs": [],
   "source": [
    "# Geolocalização?\n",
    "# Olhar as coordenadas dentro de 'place'\n",
    "df[df['place'].notnull()]['place']"
   ]
  },
  {
   "cell_type": "code",
   "execution_count": 14,
   "metadata": {
    "collapsed": true
   },
   "outputs": [],
   "source": []
  },
  {
   "cell_type": "code",
   "execution_count": 56,
   "metadata": {
    "collapsed": true
   },
   "outputs": [],
   "source": [
    "# Quais usuarios mais postaram coisas?\n",
    "\n",
    "# Quais os mais influenciadores?\n",
    "\n"
   ]
  },
  {
   "cell_type": "code",
   "execution_count": 54,
   "metadata": {
    "scrolled": true
   },
   "outputs": [
    {
     "data": {
      "text/plain": [
       "0        {'hashtags': [], 'urls': [{'url': 'https://t.c...\n",
       "1        {'hashtags': [], 'urls': [{'url': 'https://t.c...\n",
       "2        {'hashtags': [], 'urls': [], 'user_mentions': ...\n",
       "3        {'hashtags': [], 'urls': [], 'user_mentions': ...\n",
       "4        {'hashtags': [], 'urls': [], 'user_mentions': ...\n",
       "5        {'hashtags': [], 'urls': [], 'user_mentions': ...\n",
       "6        {'hashtags': [], 'urls': [{'url': 'https://t.c...\n",
       "7        {'hashtags': [], 'urls': [{'url': 'https://t.c...\n",
       "8        {'hashtags': [], 'urls': [], 'user_mentions': ...\n",
       "9        {'hashtags': [], 'urls': [], 'user_mentions': ...\n",
       "10       {'hashtags': [], 'urls': [{'url': 'https://t.c...\n",
       "11       {'hashtags': [], 'urls': [{'url': 'https://t.c...\n",
       "12       {'hashtags': [], 'urls': [{'url': 'https://t.c...\n",
       "13       {'hashtags': [], 'urls': [], 'user_mentions': ...\n",
       "14       {'hashtags': [{'text': 'SouDeDireitaPorque', '...\n",
       "15       {'hashtags': [], 'urls': [], 'user_mentions': ...\n",
       "16       {'hashtags': [], 'urls': [{'url': 'https://t.c...\n",
       "17       {'hashtags': [], 'urls': [{'url': 'https://t.c...\n",
       "18       {'hashtags': [], 'urls': [{'url': 'https://t.c...\n",
       "19       {'hashtags': [], 'urls': [], 'user_mentions': ...\n",
       "20       {'hashtags': [], 'urls': [], 'user_mentions': ...\n",
       "21       {'hashtags': [], 'urls': [], 'user_mentions': ...\n",
       "22       {'hashtags': [], 'urls': [{'url': 'https://t.c...\n",
       "23       {'hashtags': [], 'urls': [{'url': 'https://t.c...\n",
       "24       {'hashtags': [], 'urls': [{'url': 'https://t.c...\n",
       "25       {'hashtags': [], 'urls': [{'url': 'https://t.c...\n",
       "26       {'hashtags': [], 'urls': [{'url': 'https://t.c...\n",
       "27       {'hashtags': [], 'urls': [], 'user_mentions': ...\n",
       "28       {'hashtags': [], 'urls': [], 'user_mentions': ...\n",
       "29       {'hashtags': [], 'urls': [{'url': 'https://t.c...\n",
       "                               ...                        \n",
       "15603    {'hashtags': [], 'urls': [], 'user_mentions': ...\n",
       "15604    {'hashtags': [], 'urls': [], 'user_mentions': ...\n",
       "15605    {'hashtags': [], 'urls': [{'url': 'https://t.c...\n",
       "15606    {'hashtags': [], 'urls': [{'url': 'https://t.c...\n",
       "15607    {'hashtags': [], 'urls': [], 'user_mentions': ...\n",
       "15608    {'hashtags': [], 'urls': [], 'user_mentions': ...\n",
       "15609    {'hashtags': [{'text': 'EleNão', 'indices': [1...\n",
       "15610    {'hashtags': [{'text': 'ForaPTno1Turno', 'indi...\n",
       "15611    {'hashtags': [], 'urls': [{'url': 'https://t.c...\n",
       "15612    {'hashtags': [], 'urls': [{'url': 'https://t.c...\n",
       "15613    {'hashtags': [{'text': 'Bolsonaro17', 'indices...\n",
       "15614    {'hashtags': [], 'urls': [{'url': 'https://t.c...\n",
       "15615    {'hashtags': [], 'urls': [], 'user_mentions': ...\n",
       "15616    {'hashtags': [], 'urls': [{'url': 'https://t.c...\n",
       "15617    {'hashtags': [], 'urls': [{'url': 'https://t.c...\n",
       "15618    {'hashtags': [], 'urls': [], 'user_mentions': ...\n",
       "15619    {'hashtags': [], 'urls': [{'url': 'https://t.c...\n",
       "15620    {'hashtags': [], 'urls': [{'url': 'https://t.c...\n",
       "15621    {'hashtags': [], 'urls': [], 'user_mentions': ...\n",
       "15622    {'hashtags': [], 'urls': [], 'user_mentions': ...\n",
       "15623    {'hashtags': [], 'urls': [{'url': 'https://t.c...\n",
       "15624    {'hashtags': [], 'urls': [], 'user_mentions': ...\n",
       "15625    {'hashtags': [], 'urls': [], 'user_mentions': ...\n",
       "15626    {'hashtags': [], 'urls': [{'url': 'https://t.c...\n",
       "15627    {'hashtags': [], 'urls': [{'url': 'https://t.c...\n",
       "15628    {'hashtags': [], 'urls': [], 'user_mentions': ...\n",
       "15629    {'hashtags': [], 'urls': [{'url': 'https://t.c...\n",
       "15630    {'hashtags': [], 'urls': [], 'user_mentions': ...\n",
       "15631    {'hashtags': [], 'urls': [{'url': 'https://t.c...\n",
       "15632    {'hashtags': [], 'urls': [{'url': 'https://t.c...\n",
       "Name: entities, Length: 15633, dtype: object"
      ]
     },
     "execution_count": 54,
     "metadata": {},
     "output_type": "execute_result"
    }
   ],
   "source": [
    "# Em entities podemos buscar pelas hashtags mais utilizadas e tudo mais...\n",
    "# https://developer.twitter.com/en/docs/tweets/data-dictionary/overview/entities-object\n",
    "df['entities']"
   ]
  },
  {
   "cell_type": "code",
   "execution_count": null,
   "metadata": {
    "collapsed": true
   },
   "outputs": [],
   "source": [
    "# Fazer um metodo para selecionar tweets aleatorios e aplicar os testes do classificador \n",
    "# imprimindo o resultado determinado pelo classificados"
   ]
  },
  {
   "cell_type": "code",
   "execution_count": null,
   "metadata": {
    "collapsed": true
   },
   "outputs": [],
   "source": []
  }
 ],
 "metadata": {
  "kernelspec": {
   "display_name": "Python 3",
   "language": "python",
   "name": "python3"
  },
  "language_info": {
   "codemirror_mode": {
    "name": "ipython",
    "version": 3
   },
   "file_extension": ".py",
   "mimetype": "text/x-python",
   "name": "python",
   "nbconvert_exporter": "python",
   "pygments_lexer": "ipython3",
   "version": "3.6.3"
  }
 },
 "nbformat": 4,
 "nbformat_minor": 2
}
